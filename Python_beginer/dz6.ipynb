{
 "cells": [
  {
   "cell_type": "code",
   "execution_count": 19,
   "metadata": {},
   "outputs": [],
   "source": [
    "import os"
   ]
  },
  {
   "cell_type": "code",
   "execution_count": 20,
   "metadata": {},
   "outputs": [
    {
     "name": "stdout",
     "output_type": "stream",
     "text": [
      "['odd', 'odd', 'even']\n"
     ]
    }
   ],
   "source": [
    "def odd_even(v: list[int]) -> list[str]:\n",
    "    return [\"even\" if x % 2 == 0 else \"odd\" for x in v]\n",
    "\n",
    "numbers = [1, 3, 2]\n",
    "print(odd_even(numbers))  \n",
    "# [\"odd\", \"odd\", \"even\"]"
   ]
  },
  {
   "cell_type": "code",
   "execution_count": 16,
   "metadata": {},
   "outputs": [
    {
     "name": "stdout",
     "output_type": "stream",
     "text": [
      "15\n"
     ]
    }
   ],
   "source": [
    "def sum_odds(v: list[int]) -> int:\n",
    "    return sum([x for x in v if x % 2 != 0])\n",
    "\n",
    "L = [3, 7, 2, 4, 5, 6]\n",
    "print(sum_odds(L))  \n",
    "# 15"
   ]
  },
  {
   "cell_type": "code",
   "execution_count": 17,
   "metadata": {},
   "outputs": [
    {
     "name": "stdout",
     "output_type": "stream",
     "text": [
      "[6, 16, 61, 66, -6]\n"
     ]
    }
   ],
   "source": [
    "def contains_digit_six(v: list[int]) -> list[int]:\n",
    "    return [x for x in v if '6' in str(abs(x))]\n",
    "\n",
    "v = [5, 6, 15, 51, 16, 61, 66, -5, -6]\n",
    "print(contains_digit_six(v))  \n",
    "# [6, 16, 61, 66, -6]"
   ]
  },
  {
   "cell_type": "code",
   "execution_count": 18,
   "metadata": {},
   "outputs": [
    {
     "name": "stdout",
     "output_type": "stream",
     "text": [
      "Все файлы и папки: ['.hidden_file.txt', '.hidden_folder', 'visible_file.txt', 'visible_folder']\n",
      "Нескрытые файлы и папки: ['visible_file.txt', 'visible_folder']\n"
     ]
    }
   ],
   "source": [
    "def nonhidden(path):\n",
    "    return [file for file in os.listdir(path) if not file.startswith('.')]\n",
    "def demo_nonhidden():\n",
    "    demo_path = 'demo_folder'\n",
    "    os.makedirs(demo_path, exist_ok=True)\n",
    "    with open(os.path.join(demo_path, 'visible_file.txt'), 'w') as f:\n",
    "        f.write('Видимые')\n",
    "    with open(os.path.join(demo_path, '.hidden_file.txt'), 'w') as f:\n",
    "        f.write('Скрытые')\n",
    "    os.makedirs(os.path.join(demo_path, 'visible_folder'), exist_ok=True)\n",
    "    os.makedirs(os.path.join(demo_path, '.hidden_folder'), exist_ok=True)\n",
    "    print(\"Все файлы и папки:\", os.listdir(demo_path))\n",
    "    print(\"Нескрытые файлы и папки:\", nonhidden(demo_path))\n",
    "    \n",
    "    for file in os.listdir(demo_path):\n",
    "        path = os.path.join(demo_path, file)\n",
    "        if os.path.isfile(path):\n",
    "            os.remove(path)\n",
    "        else:\n",
    "            os.rmdir(path)\n",
    "    os.rmdir(demo_path)\n",
    "demo_nonhidden()"
   ]
  },
  {
   "cell_type": "code",
   "execution_count": null,
   "metadata": {},
   "outputs": [],
   "source": [
    "def outer_sum(u: list[float], v: list[float]) -> list[float]:\n",
    "    return [x + y for x in u for y in v]\n",
    "\n",
    "u = [0, 1, 2]\n",
    "v = [100, 200, 300]\n",
    "print(outer_sum(u, v))  \n",
    "# [100, 200, 300, 101, 201, 301, 102, 202, 302]\n"
   ]
  },
  {
   "cell_type": "code",
   "execution_count": null,
   "metadata": {},
   "outputs": [],
   "source": [
    "def choice2_sum(v: list[float]) -> list[float]:\n",
    "    return [x + y for i, x in enumerate(v) for y in v[i+1:]]\n",
    "\n",
    "L = [1, 7, 42]\n",
    "print(choice2_sum(L))  \n",
    "# [2, 8, 43, 8, 14, 49, 43, 49, 84]\n"
   ]
  },
  {
   "cell_type": "code",
   "execution_count": 7,
   "metadata": {},
   "outputs": [
    {
     "name": "stdout",
     "output_type": "stream",
     "text": [
      "[3, 7]\n"
     ]
    }
   ],
   "source": [
    "def rowwise_sum(matrix: list[list[float]]) -> list[float]:\n",
    "    return [sum(row) for row in matrix]\n",
    "\n",
    "matrix = [[1, 2], [3, 4]]\n",
    "print(rowwise_sum(matrix))  \n",
    "# [3, 7]"
   ]
  },
  {
   "cell_type": "code",
   "execution_count": 8,
   "metadata": {},
   "outputs": [
    {
     "name": "stdout",
     "output_type": "stream",
     "text": [
      "[4, 6]\n"
     ]
    }
   ],
   "source": [
    "def columnwise_sum(matrix: list[list[float]]) -> list[float]:\n",
    "    return [sum(col) for col in zip(*matrix)]\n",
    "\n",
    "matrix = [[1, 2], [3, 4]]\n",
    "print(columnwise_sum(matrix))  \n",
    "# [4, 6]"
   ]
  },
  {
   "cell_type": "code",
   "execution_count": 9,
   "metadata": {},
   "outputs": [
    {
     "name": "stdout",
     "output_type": "stream",
     "text": [
      "11\n"
     ]
    }
   ],
   "source": [
    "def dot_product(u: list[float], v: list[float]) -> float:\n",
    "    return sum([a * b for a, b in zip(u, v)])\n",
    "\n",
    "u = [1, 2]\n",
    "v = [3, 4]\n",
    "print(dot_product(u, v))  \n",
    "# 11"
   ]
  },
  {
   "cell_type": "code",
   "execution_count": 10,
   "metadata": {},
   "outputs": [
    {
     "name": "stdout",
     "output_type": "stream",
     "text": [
      "5.0\n"
     ]
    }
   ],
   "source": [
    "def norm(v: list[float], p: float) -> float:\n",
    "    return sum([abs(x)**p for x in v])**(1/p)\n",
    "v = [3, 4]\n",
    "print(norm(v, 2))  \n",
    "# 5.0"
   ]
  },
  {
   "cell_type": "code",
   "execution_count": 11,
   "metadata": {},
   "outputs": [
    {
     "name": "stdout",
     "output_type": "stream",
     "text": [
      "[0, 1, 2, 3, 2, 1, 0]\n"
     ]
    }
   ],
   "source": [
    "def UpAndDown(n: int):\n",
    "    for i in range(n+1):\n",
    "        yield i\n",
    "    for i in range(n-1, -1, -1):\n",
    "        yield i\n",
    "print(list(UpAndDown(3)))  \n",
    "# [0, 1, 2, 3, 2, 1, 0]\n"
   ]
  },
  {
   "cell_type": "code",
   "execution_count": 12,
   "metadata": {},
   "outputs": [
    {
     "name": "stdout",
     "output_type": "stream",
     "text": [
      "[('A', 'B'), ('B', 'C'), ('C', 'D')]\n"
     ]
    }
   ],
   "source": [
    "def prev_next(iterable):\n",
    "    for i in range(len(iterable) - 1):\n",
    "        yield (iterable[i], iterable[i+1])\n",
    "x = [\"A\", \"B\", \"C\", \"D\"]\n",
    "print(list(prev_next(x)))  \n",
    "# [(\"A\", \"B\"), (\"B\", \"C\"), (\"C\", \"D\")]\n"
   ]
  }
 ],
 "metadata": {
  "kernelspec": {
   "display_name": "base",
   "language": "python",
   "name": "python3"
  },
  "language_info": {
   "codemirror_mode": {
    "name": "ipython",
    "version": 3
   },
   "file_extension": ".py",
   "mimetype": "text/x-python",
   "name": "python",
   "nbconvert_exporter": "python",
   "pygments_lexer": "ipython3",
   "version": "3.12.4"
  }
 },
 "nbformat": 4,
 "nbformat_minor": 2
}
