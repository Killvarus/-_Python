{
 "cells": [
  {
   "cell_type": "code",
   "execution_count": 1,
   "metadata": {},
   "outputs": [
    {
     "name": "stderr",
     "output_type": "stream",
     "text": [
      "<>:15: SyntaxWarning: invalid escape sequence '\\D'\n",
      "<>:15: SyntaxWarning: invalid escape sequence '\\D'\n",
      "C:\\Users\\Роман\\AppData\\Local\\Temp\\ipykernel_11832\\31063005.py:15: SyntaxWarning: invalid escape sequence '\\D'\n",
      "  sys.path.append('D:\\Desktop\\Вся прога на питоне\\Задача по курсовой')\n"
     ]
    }
   ],
   "source": [
    "import xgboost as xgb\n",
    "import matplotlib.pyplot as plt\n",
    "import pandas as pd\n",
    "import numpy as np\n",
    "import pandas as pd\n",
    "import matplotlib.pyplot as plt\n",
    "from scipy.stats import pearsonr\n",
    "import torch \n",
    "import torch.optim as optim\n",
    "import pandas as pd\n",
    "import torch.nn as nn\n",
    "from torch.utils.data import DataLoader, TensorDataset,Dataset\n",
    "from sklearn.model_selection import KFold\n",
    "import sys\n",
    "sys.path.append('D:\\Desktop\\Вся прога на питоне\\Задача по курсовой')\n",
    "from functions import ONP_Adagrad,ONP,to_exel"
   ]
  },
  {
   "cell_type": "code",
   "execution_count": 2,
   "metadata": {},
   "outputs": [],
   "source": [
    "train = pd.read_csv('D:/Desktop/Вся прога на питоне/Задача по курсовой/mtsgrvmgn_trn.csv')\n",
    "test = pd.read_csv('D:/Desktop/Вся прога на питоне/Задача по курсовой/mtsgrvmgn_tst.csv')\n",
    "valid = pd.read_csv('D:/Desktop/Вся прога на питоне/Задача по курсовой/mtsgrvmgn_vld.csv')"
   ]
  },
  {
   "cell_type": "code",
   "execution_count": 3,
   "metadata": {},
   "outputs": [],
   "source": [
    "y_train = train[['H1_8','H2_8','H3_8']]\n",
    "y_valid = valid[['H1_8','H2_8','H3_8']]\n",
    "y_test = test[['H1_8','H2_8','H3_8']]\n",
    "X_test = test.drop(['H1_8', 'H2_8', 'H3_8'], axis=1)\n",
    "common_columns = X_test.columns.intersection(train.columns)\n",
    "X_train = train[common_columns]\n",
    "X_test = X_test[common_columns]\n",
    "X_valid = valid[common_columns]\n",
    "model = xgb.XGBRegressor(objective='reg:squarederror', n_estimators=256,max_depth=5, random_state=42)\n",
    "model.fit(X_train, y_train)\n",
    "\n",
    "# Важность признаков\n",
    "importance = model.feature_importances_\n",
    "feature_names = X_train.columns\n",
    "\n",
    "sorted_idx = np.argsort(importance)[::-1]  # Индексы признаков, отсортированные по убыванию важности\n",
    "sorted_features = feature_names[sorted_idx]  # Имена признаков, отсортированные по убыванию важности\n",
    "sorted_importance = importance[sorted_idx]  # Важность признаков, отсортированная по убыванию\n",
    "\n",
    "N = 750\n",
    "\n",
    "top_n_features = sorted_features[:N]\n",
    "X_test = test[top_n_features]\n",
    "common_columns = X_test.columns.intersection(train.columns)\n",
    "X_train = train[common_columns]\n",
    "X_test = X_test[common_columns]\n",
    "X_valid = valid[common_columns]"
   ]
  },
  {
   "cell_type": "code",
   "execution_count": 14,
   "metadata": {},
   "outputs": [],
   "source": [
    "feature_importance = np.sum(np.abs(importance), axis=0)"
   ]
  },
  {
   "cell_type": "code",
   "execution_count": 15,
   "metadata": {},
   "outputs": [
    {
     "data": {
      "text/plain": [
       "1.0"
      ]
     },
     "execution_count": 15,
     "metadata": {},
     "output_type": "execute_result"
    }
   ],
   "source": [
    "feature_importance"
   ]
  },
  {
   "cell_type": "code",
   "execution_count": 20,
   "metadata": {},
   "outputs": [
    {
     "data": {
      "image/png": "[encoded data removed]",
      "text/plain": [
       "<Figure size 1000x600 with 1 Axes>"
      ]
     },
     "metadata": {},
     "output_type": "display_data"
    }
   ],
   "source": [
    "\n",
    "import matplotlib.pyplot as plt\n",
    "import numpy as np\n",
    "feature_importance = np.sum(np.abs(importance), axis=0)\n",
    "plt.figure(figsize=(10, 6))\n",
    "plt.bar(range(2460), importance)\n",
    "plt.xlabel(\"Номер признака\")\n",
    "plt.ylabel(\"Важность признака\")\n",
    "plt.title(\"Важность признаков на основе весов модели\")\n",
    "plt.show()"
   ]
  },
  {
   "cell_type": "code",
   "execution_count": 4,
   "metadata": {},
   "outputs": [
    {
     "name": "stdout",
     "output_type": "stream",
     "text": [
      "Early stopping triggered at epoch 46\n"
     ]
    }
   ],
   "source": [
    "# Фильтр с 3 выходами\n",
    "to_exel(file_name='GBW_3.xlsx',\n",
    "        n_coloumns=4,n_iter=3,X_train=X_train,y_train=y_train,\n",
    "        X_valid=X_valid,y_valid=y_valid,X_test=X_test,y_test=y_test,\n",
    "        batch_size=64,input_dim=X_train.shape[1],output_dim=3,\n",
    "        learning_rate=0.001,num_epochs=50,patience=10)"
   ]
  },
  {
   "cell_type": "code",
   "execution_count": 5,
   "metadata": {},
   "outputs": [],
   "source": [
    "# H1 фильтрованное\n",
    "y_train = train[['H1_8']]\n",
    "y_valid = valid[['H1_8']]\n",
    "y_test = test[['H1_8']]\n",
    "X_test = test.drop(['H1_8'], axis=1)\n",
    "common_columns = X_test.columns.intersection(train.columns)\n",
    "X_train = train[common_columns]\n",
    "X_test = X_test[common_columns]\n",
    "X_valid = valid[common_columns]\n",
    "model = xgb.XGBRegressor(objective='reg:squarederror', n_estimators=256,max_depth=5, random_state=42)\n",
    "model.fit(X_train, y_train)\n",
    "\n",
    "# Важность признаков\n",
    "importance = model.feature_importances_\n",
    "feature_names = X_train.columns\n",
    "\n",
    "sorted_idx = np.argsort(importance)[::-1]  # Индексы признаков, отсортированные по убыванию важности\n",
    "sorted_features = feature_names[sorted_idx]  # Имена признаков, отсортированные по убыванию важности\n",
    "sorted_importance = importance[sorted_idx]  # Важность признаков, отсортированная по убыванию\n",
    "\n",
    "N = 750\n",
    "\n",
    "top_n_features = sorted_features[:N]\n",
    "X_test = test[top_n_features]\n",
    "common_columns = X_test.columns.intersection(train.columns)\n",
    "X_train = train[common_columns]\n",
    "X_test = X_test[common_columns]\n",
    "X_valid = valid[common_columns]"
   ]
  },
  {
   "cell_type": "code",
   "execution_count": 6,
   "metadata": {},
   "outputs": [
    {
     "name": "stdout",
     "output_type": "stream",
     "text": [
      "Early stopping triggered at epoch 48\n",
      "Early stopping triggered at epoch 40\n"
     ]
    }
   ],
   "source": [
    "# H1 фильтрованное\n",
    "to_exel(file_name='GBW_H1.xlsx',\n",
    "        n_coloumns=4,n_iter=3,X_train=X_train,y_train=y_train,\n",
    "        X_valid=X_valid,y_valid=y_valid,X_test=X_test,y_test=y_test,\n",
    "        batch_size=64,input_dim=X_train.shape[1],output_dim=1,\n",
    "        learning_rate=0.001,num_epochs=50,patience=10)"
   ]
  },
  {
   "cell_type": "code",
   "execution_count": 7,
   "metadata": {},
   "outputs": [],
   "source": [
    "# H2 Фильтрованное\n",
    "y_train = train[['H2_8']]\n",
    "y_valid = valid[['H2_8']]\n",
    "y_test = test[['H2_8']]\n",
    "X_test = test.drop(['H2_8'], axis=1)\n",
    "common_columns = X_test.columns.intersection(train.columns)\n",
    "X_train = train[common_columns]\n",
    "X_test = X_test[common_columns]\n",
    "X_valid = valid[common_columns]\n",
    "model = xgb.XGBRegressor(objective='reg:squarederror', n_estimators=256,max_depth=5, random_state=42)\n",
    "model.fit(X_train, y_train)\n",
    "\n",
    "# Важность признаков\n",
    "importance = model.feature_importances_\n",
    "feature_names = X_train.columns\n",
    "\n",
    "sorted_idx = np.argsort(importance)[::-1]  # Индексы признаков, отсортированные по убыванию важности\n",
    "sorted_features = feature_names[sorted_idx]  # Имена признаков, отсортированные по убыванию важности\n",
    "sorted_importance = importance[sorted_idx]  # Важность признаков, отсортированная по убыванию\n",
    "\n",
    "N = 750\n",
    "\n",
    "top_n_features = sorted_features[:N]\n",
    "X_test = test[top_n_features]\n",
    "common_columns = X_test.columns.intersection(train.columns)\n",
    "X_train = train[common_columns]\n",
    "X_test = X_test[common_columns]\n",
    "X_valid = valid[common_columns]"
   ]
  },
  {
   "cell_type": "code",
   "execution_count": 8,
   "metadata": {},
   "outputs": [
    {
     "name": "stdout",
     "output_type": "stream",
     "text": [
      "Early stopping triggered at epoch 49\n"
     ]
    }
   ],
   "source": [
    "# H2 Фильтрованное\n",
    "to_exel(file_name='GBW_H2.xlsx',\n",
    "        n_coloumns=4,n_iter=3,X_train=X_train,y_train=y_train,\n",
    "        X_valid=X_valid,y_valid=y_valid,X_test=X_test,y_test=y_test,\n",
    "        batch_size=64,input_dim=X_train.shape[1],output_dim=1,\n",
    "        learning_rate=0.001,num_epochs=50,patience=10)"
   ]
  },
  {
   "cell_type": "code",
   "execution_count": 9,
   "metadata": {},
   "outputs": [],
   "source": [
    "# H3 Фильтрованное\n",
    "y_train = train[['H3_8']]\n",
    "y_valid = valid[['H3_8']]\n",
    "y_test = test[['H3_8']]\n",
    "X_test = test.drop(['H3_8'], axis=1)\n",
    "common_columns = X_test.columns.intersection(train.columns)\n",
    "X_train = train[common_columns]\n",
    "X_test = X_test[common_columns]\n",
    "X_valid = valid[common_columns]\n",
    "model = xgb.XGBRegressor(objective='reg:squarederror', n_estimators=256,max_depth=5, random_state=42)\n",
    "model.fit(X_train, y_train)\n",
    "\n",
    "# Важность признаков\n",
    "importance = model.feature_importances_\n",
    "feature_names = X_train.columns\n",
    "\n",
    "sorted_idx = np.argsort(importance)[::-1]  # Индексы признаков, отсортированные по убыванию важности\n",
    "sorted_features = feature_names[sorted_idx]  # Имена признаков, отсортированные по убыванию важности\n",
    "sorted_importance = importance[sorted_idx]  # Важность признаков, отсортированная по убыванию\n",
    "\n",
    "N = 750\n",
    "\n",
    "top_n_features = sorted_features[:N]\n",
    "X_test = test[top_n_features]\n",
    "common_columns = X_test.columns.intersection(train.columns)\n",
    "X_train = train[common_columns]\n",
    "X_test = X_test[common_columns]\n",
    "X_valid = valid[common_columns]"
   ]
  },
  {
   "cell_type": "code",
   "execution_count": 10,
   "metadata": {},
   "outputs": [],
   "source": [
    "# H3 Фильтрованное\n",
    "to_exel(file_name='GBW_H3.xlsx',\n",
    "        n_coloumns=4,n_iter=3,X_train=X_train,y_train=y_train,\n",
    "        X_valid=X_valid,y_valid=y_valid,X_test=X_test,y_test=y_test,\n",
    "        batch_size=64,input_dim=X_train.shape[1],output_dim=1,\n",
    "        learning_rate=0.001,num_epochs=50,patience=10)"
   ]
  }
 ],
 "metadata": {
  "kernelspec": {
   "display_name": "Python 3",
   "language": "python",
   "name": "python3"
  },
  "language_info": {
   "codemirror_mode": {
    "name": "ipython",
    "version": 3
   },
   "file_extension": ".py",
   "mimetype": "text/x-python",
   "name": "python",
   "nbconvert_exporter": "python",
   "pygments_lexer": "ipython3",
   "version": "3.12.0"
  }
 },
 "nbformat": 4,
 "nbformat_minor": 2
}
