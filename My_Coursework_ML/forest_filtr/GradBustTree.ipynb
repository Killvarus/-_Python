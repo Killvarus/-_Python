{
 "cells": [
  {
   "cell_type": "code",
   "execution_count": 1,
   "metadata": {},
   "outputs": [
    {
     "name": "stderr",
     "output_type": "stream",
     "text": [
      "<>:4: SyntaxWarning: invalid escape sequence '\\D'\n",
      "<>:4: SyntaxWarning: invalid escape sequence '\\D'\n",
      "C:\\Users\\Роман\\AppData\\Local\\Temp\\ipykernel_22656\\699865874.py:4: SyntaxWarning: invalid escape sequence '\\D'\n",
      "  sys.path.append('D:\\Desktop\\Вся прога на питоне\\Задача по курсовой')\n"
     ]
    }
   ],
   "source": [
    "import numpy as np\n",
    "import pandas as pd\n",
    "import sys\n",
    "sys.path.append('D:\\Desktop\\Вся прога на питоне\\Задача по курсовой')\n",
    "from functions import to_exel_GB"
   ]
  },
  {
   "cell_type": "code",
   "execution_count": 2,
   "metadata": {},
   "outputs": [],
   "source": [
    "train = pd.read_csv('D:/Desktop/Вся прога на питоне/Задача по курсовой/mtsgrvmgn_trn.csv')\n",
    "test = pd.read_csv('D:/Desktop/Вся прога на питоне/Задача по курсовой/mtsgrvmgn_tst.csv')\n",
    "valid = pd.read_csv('D:/Desktop/Вся прога на питоне/Задача по курсовой/mtsgrvmgn_vld.csv')"
   ]
  },
  {
   "cell_type": "code",
   "execution_count": 3,
   "metadata": {},
   "outputs": [],
   "source": [
    "# H1 не фильтрованная\n",
    "y_train = train[['H1_8']]\n",
    "y_valid = valid[['H1_8']]\n",
    "y_test = test[['H1_8']]\n",
    "X_test = test.drop(['H1_8'], axis=1)\n",
    "common_columns = X_test.columns.intersection(train.columns)\n",
    "X_train = train[common_columns]\n",
    "X_test = X_test[common_columns]\n",
    "X_valid = valid[common_columns]\n",
    "to_exel_GB(file_name='All_GB_H1.xlsx',\n",
    "        n_coloumns=4,n_iter=3,X_train=X_train,y_train=y_train,\n",
    "        X_valid=X_valid,y_valid=y_valid,X_test=X_test,y_test=y_test,n_estimators=256,max_depth=5,subsample=0.8)"
   ]
  },
  {
   "cell_type": "code",
   "execution_count": 5,
   "metadata": {},
   "outputs": [],
   "source": [
    "# H2 не фильтрованная\n",
    "y_train = train[['H2_8']]\n",
    "y_valid = valid[['H2_8']]\n",
    "y_test = test[['H2_8']]\n",
    "X_test = test.drop(['H2_8'], axis=1)\n",
    "common_columns = X_test.columns.intersection(train.columns)\n",
    "X_train = train[common_columns]\n",
    "X_test = X_test[common_columns]\n",
    "X_valid = valid[common_columns]\n",
    "to_exel_GB(file_name='All_GB_H2.xlsx',\n",
    "        n_coloumns=4,n_iter=1,X_train=X_train,y_train=y_train,\n",
    "        X_valid=X_valid,y_valid=y_valid,X_test=X_test,y_test=y_test,n_estimators=256,max_depth=5)"
   ]
  },
  {
   "cell_type": "code",
   "execution_count": 8,
   "metadata": {},
   "outputs": [],
   "source": [
    "# H3 не фильтрованная\n",
    "y_train = train[['H3_8']]\n",
    "y_valid = valid[['H3_8']]\n",
    "y_test = test[['H3_8']]\n",
    "X_test = test.drop(['H3_8'], axis=1)\n",
    "common_columns = X_test.columns.intersection(train.columns)\n",
    "X_train = train[common_columns]\n",
    "X_test = X_test[common_columns]\n",
    "X_valid = valid[common_columns]\n",
    "to_exel_GB(file_name='All_GB_H3.xlsx',\n",
    "        n_coloumns=4,n_iter=1,X_train=X_train,y_train=y_train,\n",
    "        X_valid=X_valid,y_valid=y_valid,X_test=X_test,y_test=y_test,n_estimators=256,max_depth=5)"
   ]
  },
  {
   "cell_type": "code",
   "execution_count": 13,
   "metadata": {},
   "outputs": [
    {
     "name": "stdout",
     "output_type": "stream",
     "text": [
      "(21000, 787)\n"
     ]
    }
   ],
   "source": [
    "# Для H3 фильтрованного по Пирсону\n",
    "from scipy.stats import pearsonr\n",
    "y_train = train[['H3_8']]\n",
    "y_valid = valid[['H3_8']]\n",
    "y_test = test[['H3_8']]\n",
    "X_test = test.drop(['H3_8'], axis=1)\n",
    "common_columns = X_test.columns.intersection(train.columns)\n",
    "X_train = train[common_columns]\n",
    "X_test = X_test[common_columns]\n",
    "X_valid = valid[common_columns]\n",
    "X_t_1 = X_train.copy()\n",
    "X_v_1 = X_valid.copy()\n",
    "X_te_1 = X_test.copy()\n",
    "for i in X_train.columns:\n",
    "    res = pearsonr(X_train[i], X_train['H1_9'])\n",
    "    if abs(res[0])>0.9 or abs(res[0])<0.15:\n",
    "        X_t_1 = X_t_1.drop(i,axis = 1)\n",
    "        X_v_1 = X_v_1.drop(i,axis = 1)\n",
    "        X_te_1 = X_te_1.drop(i,axis = 1)\n",
    "print(X_t_1.shape)\n",
    "X_train = X_t_1.copy()\n",
    "X_valid = X_v_1.copy()\n",
    "X_test = X_te_1.copy()\n",
    "to_exel_GB (file_name='filtrP_GB_H3.xlsx',\n",
    "        n_coloumns=4,n_iter=1,X_train=X_train,y_train=y_train,\n",
    "        X_valid=X_valid,y_valid=y_valid,X_test=X_test,y_test=y_test,n_estimators=256,max_depth=5)"
   ]
  },
  {
   "cell_type": "code",
   "execution_count": 14,
   "metadata": {},
   "outputs": [
    {
     "name": "stdout",
     "output_type": "stream",
     "text": [
      "(21000, 915)\n"
     ]
    }
   ],
   "source": [
    "# Для H1 фильтрованного по Пирсону\n",
    "y_train = train[['H1_8']]\n",
    "y_valid = valid[['H1_8']]\n",
    "y_test = test[['H1_8']]\n",
    "X_test = test.drop(['H1_8'], axis=1)\n",
    "common_columns = X_test.columns.intersection(train.columns)\n",
    "X_train = train[common_columns]\n",
    "X_test = X_test[common_columns]\n",
    "X_valid = valid[common_columns]\n",
    "X_t_1 = X_train.copy()\n",
    "X_v_1 = X_valid.copy()\n",
    "X_te_1 = X_test.copy()\n",
    "for i in X_train.columns:\n",
    "    res = pearsonr(X_train[i], X_train['IMYX4_16'])\n",
    "    if abs(res[0])>0.9 or abs(res[0])<0.15:\n",
    "        X_t_1 = X_t_1.drop(i,axis = 1)\n",
    "        X_v_1 = X_v_1.drop(i,axis = 1)\n",
    "        X_te_1 = X_te_1.drop(i,axis = 1)\n",
    "print(X_t_1.shape)\n",
    "X_train = X_t_1.copy()\n",
    "X_valid = X_v_1.copy()\n",
    "X_test = X_te_1.copy()\n",
    "to_exel_GB (file_name='filtrP_GB_H1.xlsx',\n",
    "        n_coloumns=4,n_iter=1,X_train=X_train,y_train=y_train,\n",
    "        X_valid=X_valid,y_valid=y_valid,X_test=X_test,y_test=y_test,n_estimators=256,max_depth=5)"
   ]
  },
  {
   "cell_type": "code",
   "execution_count": 15,
   "metadata": {},
   "outputs": [
    {
     "name": "stdout",
     "output_type": "stream",
     "text": [
      "(21000, 810)\n"
     ]
    }
   ],
   "source": [
    "# Для H2 фильтрованного по Пирсону\n",
    "y_train = train[['H2_8']]\n",
    "y_valid = valid[['H2_8']]\n",
    "y_test = test[['H2_8']]\n",
    "X_test = test.drop(['H2_8'], axis=1)\n",
    "common_columns = X_test.columns.intersection(train.columns)\n",
    "X_train = train[common_columns]\n",
    "X_test = X_test[common_columns]\n",
    "X_valid = valid[common_columns]\n",
    "X_t_1 = X_train.copy()\n",
    "X_v_1 = X_valid.copy()\n",
    "X_te_1 = X_test.copy()\n",
    "for i in X_train.columns:\n",
    "    res = pearsonr(X_train[i], X_train['REYX5_16'])\n",
    "    if abs(res[0])>0.9 or abs(res[0])<0.15:\n",
    "        X_t_1 = X_t_1.drop(i,axis = 1)\n",
    "        X_v_1 = X_v_1.drop(i,axis = 1)\n",
    "        X_te_1 = X_te_1.drop(i,axis = 1)\n",
    "print(X_t_1.shape)\n",
    "X_train = X_t_1.copy()\n",
    "X_valid = X_v_1.copy()\n",
    "X_test = X_te_1.copy()\n",
    "to_exel_GB (file_name='filtrP_GB_H2.xlsx',\n",
    "        n_coloumns=4,n_iter=1,X_train=X_train,y_train=y_train,\n",
    "        X_valid=X_valid,y_valid=y_valid,X_test=X_test,y_test=y_test,n_estimators=256,max_depth=5)"
   ]
  }
 ],
 "metadata": {
  "kernelspec": {
   "display_name": "Python 3",
   "language": "python",
   "name": "python3"
  },
  "language_info": {
   "codemirror_mode": {
    "name": "ipython",
    "version": 3
   },
   "file_extension": ".py",
   "mimetype": "text/x-python",
   "name": "python",
   "nbconvert_exporter": "python",
   "pygments_lexer": "ipython3",
   "version": "3.12.0"
  }
 },
 "nbformat": 4,
 "nbformat_minor": 2
}
