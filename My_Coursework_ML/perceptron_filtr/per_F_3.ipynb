{
 "cells": [
  {
   "cell_type": "code",
   "execution_count": 1,
   "metadata": {},
   "outputs": [
    {
     "name": "stderr",
     "output_type": "stream",
     "text": [
      "<>:12: SyntaxWarning: invalid escape sequence '\\D'\n",
      "<>:12: SyntaxWarning: invalid escape sequence '\\D'\n",
      "C:\\Users\\Роман\\AppData\\Local\\Temp\\ipykernel_9504\\368418371.py:12: SyntaxWarning: invalid escape sequence '\\D'\n",
      "  sys.path.append('D:\\Desktop\\Вся прога на питоне\\Задача по курсовой')\n"
     ]
    }
   ],
   "source": [
    "import numpy as np\n",
    "import pandas as pd\n",
    "import matplotlib.pyplot as plt\n",
    "from scipy.stats import pearsonr\n",
    "import torch \n",
    "import torch.optim as optim\n",
    "import pandas as pd\n",
    "import torch.nn as nn\n",
    "from torch.utils.data import DataLoader, TensorDataset,Dataset\n",
    "from sklearn.model_selection import KFold\n",
    "import sys\n",
    "sys.path.append('D:\\Desktop\\Вся прога на питоне\\Задача по курсовой')\n",
    "from functions import ONP_Adagrad,ONP,to_exel"
   ]
  },
  {
   "cell_type": "code",
   "execution_count": 2,
   "metadata": {},
   "outputs": [],
   "source": [
    "train = pd.read_csv('D:/Desktop/Вся прога на питоне/Задача по курсовой/mtsgrvmgn_trn.csv')\n",
    "test = pd.read_csv('D:/Desktop/Вся прога на питоне/Задача по курсовой/mtsgrvmgn_tst.csv')\n",
    "valid = pd.read_csv('D:/Desktop/Вся прога на питоне/Задача по курсовой/mtsgrvmgn_vld.csv')"
   ]
  },
  {
   "cell_type": "code",
   "execution_count": 3,
   "metadata": {},
   "outputs": [
    {
     "name": "stdout",
     "output_type": "stream",
     "text": [
      "Early stopping triggered at epoch 28\n",
      "Early stopping triggered at epoch 23\n",
      "Early stopping triggered at epoch 19\n"
     ]
    }
   ],
   "source": [
    "y_train = train[['H1_8','H2_8','H3_8']]\n",
    "y_valid = valid[['H1_8','H2_8','H3_8']]\n",
    "y_test = test[['H1_8','H2_8','H3_8']]\n",
    "X_test = test.drop(['H1_8', 'H2_8', 'H3_8'], axis=1)\n",
    "common_columns = X_test.columns.intersection(train.columns)\n",
    "X_train = train[common_columns]\n",
    "X_test = X_test[common_columns]\n",
    "X_valid = valid[common_columns]\n",
    "\n",
    "to_exel(file_name='All_3.xlsx',\n",
    "        n_coloumns=4,n_iter=3,X_train=X_train,y_train=y_train,\n",
    "        X_valid=X_valid,y_valid=y_valid,X_test=X_test,y_test=y_test,\n",
    "        batch_size=64,input_dim=X_train.shape[1],output_dim=3,\n",
    "        learning_rate=0.001,num_epochs=50,patience=10)"
   ]
  },
  {
   "cell_type": "code",
   "execution_count": 5,
   "metadata": {},
   "outputs": [
    {
     "data": {
      "text/plain": [
       "2.28"
      ]
     },
     "execution_count": 5,
     "metadata": {},
     "output_type": "execute_result"
    }
   ],
   "source": [
    "np.max(y_train['H3_8'])"
   ]
  },
  {
   "cell_type": "code",
   "execution_count": 6,
   "metadata": {},
   "outputs": [
    {
     "data": {
      "text/plain": [
       "1.02"
      ]
     },
     "execution_count": 6,
     "metadata": {},
     "output_type": "execute_result"
    }
   ],
   "source": [
    "np.min(y_train['H1_8'])"
   ]
  },
  {
   "cell_type": "code",
   "execution_count": 8,
   "metadata": {},
   "outputs": [
    {
     "data": {
      "text/plain": [
       "0.07999999999999963"
      ]
     },
     "execution_count": 8,
     "metadata": {},
     "output_type": "execute_result"
    }
   ],
   "source": [
    "np.max(y_train['H3_8'])-np.min(y_train['H3_8'])"
   ]
  },
  {
   "cell_type": "code",
   "execution_count": null,
   "metadata": {},
   "outputs": [],
   "source": []
  },
  {
   "cell_type": "code",
   "execution_count": null,
   "metadata": {},
   "outputs": [
    {
     "name": "stdout",
     "output_type": "stream",
     "text": [
      "Early stopping triggered at epoch 30\n",
      "Early stopping triggered at epoch 45\n"
     ]
    }
   ],
   "source": [
    "with pd.ExcelWriter('output_Adam_All.xlsx', engine='openpyxl') as writer:\n",
    "    for i in range(3):\n",
    "                TE,CV,CVE = ONP(X_train=X_train,y_train=y_train,X_valid=X_valid,y_valid=y_valid,X_test=X_test,y_test=y_test,\n",
    "                batch_size=64,input_dim=X_train.shape[1],output_dim=3,learning_rate=0.001,num_epochs=50,patience=10,graph=False)\n",
    "                if i == 0:\n",
    "                    TE.to_excel(writer, sheet_name='TE', index=False, startrow=0, startcol=i * 4)\n",
    "                else:\n",
    "                    TE.to_excel(writer, sheet_name='TE', index=False, startrow=0, startcol=i * 4 + 1)\n",
    "                # Записываем CV\n",
    "                if i == 0:\n",
    "                    CV.to_excel(writer, sheet_name='CV', index=False, startrow=0, startcol=i * 4)\n",
    "                else:\n",
    "                    CV.to_excel(writer, sheet_name='CV', index=False, startrow=0, startcol=i * 4 + 1)\n",
    "                # Записываем CVE\n",
    "                if i == 0:\n",
    "                    CVE.to_excel(writer, sheet_name='CVE', index=False, startrow=0, startcol=i * 4)\n",
    "                else:\n",
    "                    CVE.to_excel(writer, sheet_name='CVE', index=False, startrow=0, startcol=i * 4 + 1)\n",
    "    "
   ]
  },
  {
   "cell_type": "code",
   "execution_count": null,
   "metadata": {},
   "outputs": [],
   "source": [
    "Lr = [0.001,0.01,0.1]\n",
    "for lr in Lr:\n",
    "    file_name = f\"lr{lr},3A.xlsx\"\n",
    "    with pd.ExcelWriter(file_name, engine='openpyxl') as writer:\n",
    "        for i in range(2):\n",
    "            TE,CV,CVE = ONP(X_train=X_train,y_train=y_train,X_valid=X_valid,y_valid=y_valid,X_test=X_test,y_test=y_test,\n",
    "            batch_size=64,input_dim=X_train.shape[1],output_dim=3,learning_rate=lr,num_epochs=50,patience=10,graph=False)\n",
    "            if i == 0:\n",
    "                TE.to_excel(writer, sheet_name='TE', index=False, startrow=0, startcol=i * 3)\n",
    "            else:\n",
    "                TE.to_excel(writer, sheet_name='TE', index=False, startrow=0, startcol=i * 3 + 1)\n",
    "            # Записываем CV\n",
    "            if i == 0:\n",
    "                CV.to_excel(writer, sheet_name='CV', index=False, startrow=0, startcol=i * 3)\n",
    "            else:\n",
    "                CV.to_excel(writer, sheet_name='CV', index=False, startrow=0, startcol=i * 3 + 1)\n",
    "            # Записываем CVE\n",
    "            if i == 0:\n",
    "                CVE.to_excel(writer, sheet_name='CVE', index=False, startrow=0, startcol=i * 3)\n",
    "            else:\n",
    "                CVE.to_excel(writer, sheet_name='CVE', index=False, startrow=0, startcol=i * 3 + 1)\n",
    "    "
   ]
  },
  {
   "cell_type": "code",
   "execution_count": 5,
   "metadata": {},
   "outputs": [
    {
     "name": "stdout",
     "output_type": "stream",
     "text": [
      "['IMYX10_16', 0, 0] 0.44012605833442536\n"
     ]
    }
   ],
   "source": [
    "k = 0\n",
    "corr_ = 0\n",
    "corr_h=[]\n",
    "corr_s = 0\n",
    "\n",
    "idx = [0,0,0]\n",
    "for i in X_train.columns:\n",
    "    corr_h=[]\n",
    "    corr_h.append( abs(pearsonr(X_train[i], y_train['H1_8'])[0]))\n",
    "    corr_h.append(abs(pearsonr(X_train[i], y_train['H2_8'])[0]))\n",
    "    corr_h.append (abs( pearsonr(X_train[i], y_train['H3_8'])[0]))\n",
    "    corr_s = np.mean(corr_h)\n",
    "    if corr_<abs(corr_s): \n",
    "        corr_=corr_s\n",
    "        idx[0] = i\n",
    "print(idx,corr_)"
   ]
  },
  {
   "cell_type": "code",
   "execution_count": 5,
   "metadata": {},
   "outputs": [
    {
     "name": "stdout",
     "output_type": "stream",
     "text": [
      "(21000, 745)\n",
      "Early stopping triggered at epoch 49\n",
      "Early stopping triggered at epoch 40\n"
     ]
    }
   ],
   "source": [
    "X_t_1 = X_train.copy()\n",
    "X_v_1 = X_valid.copy()\n",
    "X_te_1 = X_test.copy()\n",
    "for i in X_train.columns:\n",
    "    res = pearsonr(X_train[i], X_train['IMYX10_16'])\n",
    "    if abs(res[0])>0.9 or abs(res[0])<0.15:\n",
    "        X_t_1 = X_t_1.drop(i,axis = 1)\n",
    "        X_v_1 = X_v_1.drop(i,axis = 1)\n",
    "        X_te_1 = X_te_1.drop(i,axis = 1)\n",
    "print(X_t_1.shape)\n",
    "\n",
    "to_exel(file_name='filtrP_3.xlsx',\n",
    "        n_coloumns=4,n_iter=3,X_train=X_t_1,y_train=y_train,\n",
    "        X_valid=X_v_1,y_valid=y_valid,X_test=X_te_1,y_test=y_test,\n",
    "        batch_size=64,input_dim=X_t_1.shape[1],output_dim=3,\n",
    "        learning_rate=0.001,num_epochs=50,patience=10)"
   ]
  },
  {
   "cell_type": "code",
   "execution_count": 6,
   "metadata": {},
   "outputs": [
    {
     "name": "stdout",
     "output_type": "stream",
     "text": [
      "Early stopping triggered at epoch 26\n",
      "Early stopping triggered at epoch 19\n",
      "Early stopping triggered at epoch 34\n"
     ]
    }
   ],
   "source": [
    "# H1 не фильтрованная\n",
    "y_train = train[['H1_8']]\n",
    "y_valid = valid[['H1_8']]\n",
    "y_test = test[['H1_8']]\n",
    "X_test = test.drop(['H1_8'], axis=1)\n",
    "common_columns = X_test.columns.intersection(train.columns)\n",
    "X_train = train[common_columns]\n",
    "X_test = X_test[common_columns]\n",
    "X_valid = valid[common_columns]\n",
    "to_exel(file_name='All_H1.xlsx',\n",
    "        n_coloumns=4,n_iter=3,X_train=X_train,y_train=y_train,\n",
    "        X_valid=X_valid,y_valid=y_valid,X_test=X_test,y_test=y_test,\n",
    "        batch_size=64,input_dim=X_train.shape[1],output_dim=1,\n",
    "        learning_rate=0.001,num_epochs=50,patience=10)"
   ]
  },
  {
   "cell_type": "code",
   "execution_count": 7,
   "metadata": {},
   "outputs": [
    {
     "name": "stdout",
     "output_type": "stream",
     "text": [
      "Early stopping triggered at epoch 34\n",
      "Early stopping triggered at epoch 44\n",
      "Early stopping triggered at epoch 37\n"
     ]
    }
   ],
   "source": [
    "#Для H2 нефильтрованного \n",
    "y_train = train[['H2_8']]\n",
    "y_valid = valid[['H2_8']]\n",
    "y_test = test[['H2_8']]\n",
    "X_test = test.drop(['H2_8'], axis=1)\n",
    "common_columns = X_test.columns.intersection(train.columns)\n",
    "X_train = train[common_columns]\n",
    "X_test = X_test[common_columns]\n",
    "X_valid = valid[common_columns]\n",
    "to_exel(file_name='All_H2.xlsx',\n",
    "        n_coloumns=4,n_iter=3,X_train=X_train,y_train=y_train,\n",
    "        X_valid=X_valid,y_valid=y_valid,X_test=X_test,y_test=y_test,\n",
    "        batch_size=64,input_dim=X_train.shape[1],output_dim=1,\n",
    "        learning_rate=0.001,num_epochs=50,patience=10)"
   ]
  },
  {
   "cell_type": "code",
   "execution_count": 4,
   "metadata": {},
   "outputs": [
    {
     "name": "stdout",
     "output_type": "stream",
     "text": [
      "Early stopping triggered at epoch 50\n",
      "Early stopping triggered at epoch 48\n"
     ]
    }
   ],
   "source": [
    "# Для H3 нефильтрованного \n",
    "y_train = train[['H3_8']]\n",
    "y_valid = valid[['H3_8']]\n",
    "y_test = test[['H3_8']]\n",
    "X_test = test.drop(['H3_8'], axis=1)\n",
    "common_columns = X_test.columns.intersection(train.columns)\n",
    "X_train = train[common_columns]\n",
    "X_test = X_test[common_columns]\n",
    "X_valid = valid[common_columns]\n",
    "to_exel(file_name='All_H3.xlsx',\n",
    "        n_coloumns=4,n_iter=3,X_train=X_train,y_train=y_train,\n",
    "        X_valid=X_valid,y_valid=y_valid,X_test=X_test,y_test=y_test,\n",
    "        batch_size=64,input_dim=X_train.shape[1],output_dim=1,\n",
    "        learning_rate=0.001,num_epochs=50,patience=10)"
   ]
  },
  {
   "cell_type": "code",
   "execution_count": null,
   "metadata": {},
   "outputs": [
    {
     "name": "stdout",
     "output_type": "stream",
     "text": [
      "['H1_9', 0, 0] 0.3640140380997824\n"
     ]
    }
   ],
   "source": [
    "k = 0\n",
    "corr_ = 0\n",
    "corr_h=[]\n",
    "corr_s = 0\n",
    "\n",
    "idx = [0,0,0]\n",
    "for i in X_train.columns:\n",
    "    corr_h=[]\n",
    "    corr_h.append (abs( pearsonr(X_train[i], y_train['H3_8'])[0]))\n",
    "    if corr_<abs(corr_s): \n",
    "        corr_=corr_s\n",
    "        idx[0] = i\n",
    "print(idx,corr_)"
   ]
  },
  {
   "cell_type": "code",
   "execution_count": 9,
   "metadata": {},
   "outputs": [
    {
     "name": "stdout",
     "output_type": "stream",
     "text": [
      "(21000, 787)\n"
     ]
    }
   ],
   "source": [
    "# Для H3 фильтрованного по Пирсону\n",
    "X_t_1 = X_train.copy()\n",
    "X_v_1 = X_valid.copy()\n",
    "X_te_1 = X_test.copy()\n",
    "for i in X_train.columns:\n",
    "    res = pearsonr(X_train[i], X_train['H1_9'])\n",
    "    if abs(res[0])>0.9 or abs(res[0])<0.15:\n",
    "        X_t_1 = X_t_1.drop(i,axis = 1)\n",
    "        X_v_1 = X_v_1.drop(i,axis = 1)\n",
    "        X_te_1 = X_te_1.drop(i,axis = 1)\n",
    "print(X_t_1.shape)\n",
    "X_train = X_t_1.copy()\n",
    "X_valid = X_v_1.copy()\n",
    "X_test = X_te_1.copy()\n",
    "to_exel(file_name='filtrP_H3.xlsx',\n",
    "        n_coloumns=4,n_iter=3,X_train=X_train,y_train=y_train,\n",
    "        X_valid=X_valid,y_valid=y_valid,X_test=X_test,y_test=y_test,\n",
    "        batch_size=64,input_dim=X_train.shape[1],output_dim=1,\n",
    "        learning_rate=0.001,num_epochs=50,patience=10)"
   ]
  },
  {
   "cell_type": "code",
   "execution_count": 10,
   "metadata": {},
   "outputs": [],
   "source": [
    "# Для H1 фильтрованного по Пирсону\n",
    "y_train = train[['H1_8']]\n",
    "y_valid = valid[['H1_8']]\n",
    "y_test = test[['H1_8']]\n",
    "X_test = test.drop(['H1_8'], axis=1)\n",
    "common_columns = X_test.columns.intersection(train.columns)\n",
    "X_train = train[common_columns]\n",
    "X_test = X_test[common_columns]\n",
    "X_valid = valid[common_columns]"
   ]
  },
  {
   "cell_type": "code",
   "execution_count": 11,
   "metadata": {},
   "outputs": [
    {
     "name": "stdout",
     "output_type": "stream",
     "text": [
      "['IMYX4_16', 0, 0] 0.9469079498595657\n"
     ]
    }
   ],
   "source": [
    "k = 0\n",
    "corr_ = 0\n",
    "corr_h=[]\n",
    "corr_s = 0\n",
    "\n",
    "idx = [0,0,0]\n",
    "for i in X_train.columns:\n",
    "    corr_h=[]\n",
    "    corr_h.append (abs( pearsonr(X_train[i], y_train['H1_8'])[0]))\n",
    "    corr_s = abs( pearsonr(X_train[i], y_train['H1_8'])[0])\n",
    "    if corr_<abs(corr_s): \n",
    "        corr_=corr_s\n",
    "        idx[0] = i\n",
    "print(idx,corr_)"
   ]
  },
  {
   "cell_type": "code",
   "execution_count": 12,
   "metadata": {},
   "outputs": [
    {
     "name": "stdout",
     "output_type": "stream",
     "text": [
      "(21000, 915)\n",
      "Early stopping triggered at epoch 41\n"
     ]
    }
   ],
   "source": [
    "X_t_1 = X_train.copy()\n",
    "X_v_1 = X_valid.copy()\n",
    "X_te_1 = X_test.copy()\n",
    "for i in X_train.columns:\n",
    "    res = pearsonr(X_train[i], X_train['IMYX4_16'])\n",
    "    if abs(res[0])>0.9 or abs(res[0])<0.15:\n",
    "        X_t_1 = X_t_1.drop(i,axis = 1)\n",
    "        X_v_1 = X_v_1.drop(i,axis = 1)\n",
    "        X_te_1 = X_te_1.drop(i,axis = 1)\n",
    "print(X_t_1.shape)\n",
    "X_train = X_t_1.copy()\n",
    "X_valid = X_v_1.copy()\n",
    "X_test = X_te_1.copy()\n",
    "to_exel(file_name='filtrP_H1.xlsx',\n",
    "        n_coloumns=4,n_iter=3,X_train=X_train,y_train=y_train,\n",
    "        X_valid=X_valid,y_valid=y_valid,X_test=X_test,y_test=y_test,\n",
    "        batch_size=64,input_dim=X_train.shape[1],output_dim=1,\n",
    "        learning_rate=0.001,num_epochs=50,patience=10)"
   ]
  },
  {
   "cell_type": "code",
   "execution_count": 13,
   "metadata": {},
   "outputs": [],
   "source": [
    "# Для H2 фильтрованного по Пирсону\n",
    "y_train = train[['H2_8']]\n",
    "y_valid = valid[['H2_8']]\n",
    "y_test = test[['H2_8']]\n",
    "X_test = test.drop(['H2_8'], axis=1)\n",
    "common_columns = X_test.columns.intersection(train.columns)\n",
    "X_train = train[common_columns]\n",
    "X_test = X_test[common_columns]\n",
    "X_valid = valid[common_columns]"
   ]
  },
  {
   "cell_type": "code",
   "execution_count": 14,
   "metadata": {},
   "outputs": [
    {
     "name": "stdout",
     "output_type": "stream",
     "text": [
      "['REYX5_16', 0, 0] 0.5909479154084429\n"
     ]
    }
   ],
   "source": [
    "k = 0\n",
    "corr_ = 0\n",
    "corr_h=[]\n",
    "corr_s = 0\n",
    "\n",
    "idx = [0,0,0]\n",
    "for i in X_train.columns:\n",
    "    corr_h=[]\n",
    "    corr_h.append (abs( pearsonr(X_train[i], y_train['H2_8'])[0]))\n",
    "    corr_s = abs( pearsonr(X_train[i], y_train['H2_8'])[0])\n",
    "    if corr_<abs(corr_s): \n",
    "        corr_=corr_s\n",
    "        idx[0] = i\n",
    "print(idx,corr_)"
   ]
  },
  {
   "cell_type": "code",
   "execution_count": 15,
   "metadata": {},
   "outputs": [
    {
     "name": "stdout",
     "output_type": "stream",
     "text": [
      "(21000, 810)\n"
     ]
    }
   ],
   "source": [
    "X_t_1 = X_train.copy()\n",
    "X_v_1 = X_valid.copy()\n",
    "X_te_1 = X_test.copy()\n",
    "for i in X_train.columns:\n",
    "    res = pearsonr(X_train[i], X_train['REYX5_16'])\n",
    "    if abs(res[0])>0.9 or abs(res[0])<0.15:\n",
    "        X_t_1 = X_t_1.drop(i,axis = 1)\n",
    "        X_v_1 = X_v_1.drop(i,axis = 1)\n",
    "        X_te_1 = X_te_1.drop(i,axis = 1)\n",
    "print(X_t_1.shape)\n",
    "X_train = X_t_1.copy()\n",
    "X_valid = X_v_1.copy()\n",
    "X_test = X_te_1.copy()\n",
    "to_exel(file_name='filtrP_H2.xlsx',\n",
    "        n_coloumns=4,n_iter=3,X_train=X_train,y_train=y_train,\n",
    "        X_valid=X_valid,y_valid=y_valid,X_test=X_test,y_test=y_test,\n",
    "        batch_size=64,input_dim=X_train.shape[1],output_dim=1,\n",
    "        learning_rate=0.001,num_epochs=50,patience=10)"
   ]
  }
 ],
 "metadata": {
  "kernelspec": {
   "display_name": "Python 3",
   "language": "python",
   "name": "python3"
  },
  "language_info": {
   "codemirror_mode": {
    "name": "ipython",
    "version": 3
   },
   "file_extension": ".py",
   "mimetype": "text/x-python",
   "name": "python",
   "nbconvert_exporter": "python",
   "pygments_lexer": "ipython3",
   "version": "3.12.0"
  }
 },
 "nbformat": 4,
 "nbformat_minor": 2
}
